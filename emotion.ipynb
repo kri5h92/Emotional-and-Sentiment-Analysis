{
 "cells": [
  {
   "cell_type": "code",
   "execution_count": 2,
   "metadata": {},
   "outputs": [
    {
     "name": "stdout",
     "output_type": "stream",
     "text": [
      "Defaulting to user installation because normal site-packages is not writeableNote: you may need to restart the kernel to use updated packages.\n"
     ]
    },
    {
     "name": "stderr",
     "output_type": "stream",
     "text": [
      "\n",
      "[notice] A new release of pip available: 22.3.1 -> 23.0.1\n",
      "[notice] To update, run: python.exe -m pip install --upgrade pip\n"
     ]
    },
    {
     "name": "stdout",
     "output_type": "stream",
     "text": [
      "\n",
      "Requirement already satisfied: tweepy in c:\\users\\krish\\appdata\\roaming\\python\\python311\\site-packages (4.13.0)\n",
      "Requirement already satisfied: nltk in c:\\users\\krish\\appdata\\roaming\\python\\python311\\site-packages (3.8.1)\n",
      "Requirement already satisfied: oauthlib<4,>=3.2.0 in c:\\users\\krish\\appdata\\roaming\\python\\python311\\site-packages (from tweepy) (3.2.2)\n",
      "Requirement already satisfied: requests<3,>=2.27.0 in c:\\users\\krish\\appdata\\roaming\\python\\python311\\site-packages (from tweepy) (2.28.2)\n",
      "Requirement already satisfied: requests-oauthlib<2,>=1.2.0 in c:\\users\\krish\\appdata\\roaming\\python\\python311\\site-packages (from tweepy) (1.3.1)\n",
      "Requirement already satisfied: click in c:\\users\\krish\\appdata\\roaming\\python\\python311\\site-packages (from nltk) (8.1.3)\n",
      "Requirement already satisfied: joblib in c:\\users\\krish\\appdata\\roaming\\python\\python311\\site-packages (from nltk) (1.2.0)\n",
      "Requirement already satisfied: regex>=2021.8.3 in c:\\users\\krish\\appdata\\roaming\\python\\python311\\site-packages (from nltk) (2023.3.23)\n",
      "Requirement already satisfied: tqdm in c:\\users\\krish\\appdata\\roaming\\python\\python311\\site-packages (from nltk) (4.65.0)\n",
      "Requirement already satisfied: charset-normalizer<4,>=2 in c:\\users\\krish\\appdata\\roaming\\python\\python311\\site-packages (from requests<3,>=2.27.0->tweepy) (3.1.0)\n",
      "Requirement already satisfied: idna<4,>=2.5 in c:\\users\\krish\\appdata\\roaming\\python\\python311\\site-packages (from requests<3,>=2.27.0->tweepy) (3.4)\n",
      "Requirement already satisfied: urllib3<1.27,>=1.21.1 in c:\\users\\krish\\appdata\\roaming\\python\\python311\\site-packages (from requests<3,>=2.27.0->tweepy) (1.26.15)\n",
      "Requirement already satisfied: certifi>=2017.4.17 in c:\\users\\krish\\appdata\\roaming\\python\\python311\\site-packages (from requests<3,>=2.27.0->tweepy) (2022.12.7)\n",
      "Requirement already satisfied: colorama in c:\\users\\krish\\appdata\\roaming\\python\\python311\\site-packages (from click->nltk) (0.4.6)\n"
     ]
    }
   ],
   "source": [
    "pip install tweepy nltk\n"
   ]
  },
  {
   "cell_type": "code",
   "execution_count": 3,
   "metadata": {},
   "outputs": [
    {
     "name": "stdout",
     "output_type": "stream",
     "text": [
      "Defaulting to user installation because normal site-packages is not writeable\n",
      "Collecting python-dotenv\n",
      "  Downloading python_dotenv-1.0.0-py3-none-any.whl (19 kB)\n",
      "Installing collected packages: python-dotenv\n",
      "Successfully installed python-dotenv-1.0.0\n",
      "Note: you may need to restart the kernel to use updated packages.\n"
     ]
    },
    {
     "name": "stderr",
     "output_type": "stream",
     "text": [
      "\n",
      "[notice] A new release of pip available: 22.3.1 -> 23.0.1\n",
      "[notice] To update, run: python.exe -m pip install --upgrade pip\n"
     ]
    }
   ],
   "source": [
    "pip install python-dotenv"
   ]
  },
  {
   "cell_type": "code",
   "execution_count": 4,
   "metadata": {},
   "outputs": [
    {
     "name": "stdout",
     "output_type": "stream",
     "text": [
      "-------------------------\n",
      "Successful Authentication\n",
      "-------------------------\n"
     ]
    }
   ],
   "source": [
    "from dotenv import load_dotenv, dotenv_values\n",
    "config = dotenv_values('.env')\n",
    "config = dict(config)\n",
    "\n",
    "import tweepy\n",
    "import nltk\n",
    "\n",
    "api_key = config['APIKEY']\n",
    "api_secrets = config['APIKEYSECRET']\n",
    "bearer_token = config['BEARERTOKEN']\n",
    "access_token = config['ACCESSTOKEN']\n",
    "access_token_secret = config['ACCESSTOKENSECRET']\n",
    "\n",
    "auth = tweepy.OAuthHandler(api_key,api_secrets)\n",
    "auth.set_access_token(access_token,access_token_secret)\n",
    "api = tweepy.API(auth)\n",
    "try:\n",
    "    api.verify_credentials()\n",
    "    print('-------------------------\\nSuccessful Authentication\\n-------------------------')\n",
    "except:\n",
    "    print('-------------------------\\nFailed authentication\\n-------------------------')"
   ]
  },
  {
   "attachments": {},
   "cell_type": "markdown",
   "metadata": {},
   "source": [
    "We download the NTLK libraries and import the emotion lexicon"
   ]
  },
  {
   "cell_type": "code",
   "execution_count": 5,
   "metadata": {},
   "outputs": [
    {
     "name": "stderr",
     "output_type": "stream",
     "text": [
      "[nltk_data] Downloading package wordnet to\n",
      "[nltk_data]     C:\\Users\\krish\\AppData\\Roaming\\nltk_data...\n",
      "[nltk_data] Downloading package sentiwordnet to\n",
      "[nltk_data]     C:\\Users\\krish\\AppData\\Roaming\\nltk_data...\n",
      "[nltk_data]   Unzipping corpora\\sentiwordnet.zip.\n",
      "[nltk_data] Downloading package punkt to\n",
      "[nltk_data]     C:\\Users\\krish\\AppData\\Roaming\\nltk_data...\n",
      "[nltk_data]   Unzipping tokenizers\\punkt.zip.\n"
     ]
    }
   ],
   "source": [
    "nltk.download('wordnet')\n",
    "nltk.download('sentiwordnet')\n",
    "nltk.download('punkt')\n",
    "\n",
    "from nltk.corpus import wordnet as wn\n",
    "from nltk.corpus import sentiwordnet as swn\n",
    "from nltk.tokenize import word_tokenize\n"
   ]
  },
  {
   "cell_type": "code",
   "execution_count": 6,
   "metadata": {},
   "outputs": [],
   "source": [
    "def get_emotions(tweet):\n",
    "    emotions = {\"anger\": 0, \"fear\": 0, \"joy\": 0, \"sadness\": 0}\n",
    "    tokens = word_tokenize(tweet)\n",
    "    for token in tokens:\n",
    "        synsets = wn.synsets(token)\n",
    "        if synsets:\n",
    "            synset = synsets[0]\n",
    "            senti_synset = swn.senti_synset(synset.name())\n",
    "            emotions[\"anger\"] += senti_synset.obj_score() + senti_synset.neg_score()\n",
    "            emotions[\"fear\"] += senti_synset.neg_score()\n",
    "            emotions[\"joy\"] += senti_synset.pos_score()\n",
    "            emotions[\"sadness\"] += senti_synset.neg_score() + senti_synset.obj_score()\n",
    "    return emotions\n"
   ]
  },
  {
   "cell_type": "code",
   "execution_count": 17,
   "metadata": {},
   "outputs": [
    {
     "name": "stdout",
     "output_type": "stream",
     "text": [
      "The Percentage of Emotions in Tweets are: \n",
      "{'anger': 42, 'fear': 3, 'joy': 1, 'sadness': 42}\n"
     ]
    },
    {
     "data": {
      "image/png": "[encoded data removed]",
      "text/plain": [
       "<Figure size 640x480 with 1 Axes>"
      ]
     },
     "metadata": {},
     "output_type": "display_data"
    }
   ],
   "source": [
    "import matplotlib.pyplot as plt\n",
    "query = \"Australian GP\"\n",
    "tweets = tweepy.Cursor(api.search_tweets,\n",
    "                           q=query,\n",
    "                           lang=\"en\",\n",
    "                           tweet_mode=\"extended\").items(100)\n",
    "\n",
    "\n",
    "emotions = {\"anger\": 0, \"fear\": 0, \"joy\": 0, \"sadness\": 0}\n",
    "total_words = 0\n",
    "\n",
    "for tweet in tweets:\n",
    "    text = tweet.full_text\n",
    "    tweet_words = word_tokenize(text)\n",
    "    total_words += len(tweet_words)\n",
    "    tweet_emotions = get_emotions(text)\n",
    "    for emotion in emotions:\n",
    "        emotions[emotion] += tweet_emotions[emotion]\n",
    "\n",
    "percentages = {}\n",
    "for emotion in emotions:\n",
    "    percentages[emotion] = round(emotions[emotion] / total_words * 100)\n",
    "\n",
    "labels = [\"Anger\", \"Fear\", \"Joy\", \"Sadness\"]\n",
    "values = [percentages[\"anger\"], percentages[\"fear\"], percentages[\"joy\"], percentages[\"sadness\"]]\n",
    "\n",
    "print(\"The Percentage of Emotions in Tweets are: \")\n",
    "print(percentages)\n",
    "\n",
    "plt.bar(labels, values)\n",
    "plt.title(\"Emotions in Tweets\")\n",
    "plt.xlabel(\"Emotion\")\n",
    "plt.ylabel(\"Percentage\")\n",
    "plt.show()\n",
    "\n",
    "\n"
   ]
  },
  {
   "cell_type": "code",
   "execution_count": 15,
   "metadata": {},
   "outputs": [
    {
     "ename": "ZeroDivisionError",
     "evalue": "division by zero",
     "output_type": "error",
     "traceback": [
      "\u001b[1;31m---------------------------------------------------------------------------\u001b[0m",
      "\u001b[1;31mZeroDivisionError\u001b[0m                         Traceback (most recent call last)",
      "Cell \u001b[1;32mIn[15], line 14\u001b[0m\n\u001b[0;32m     12\u001b[0m percentages \u001b[39m=\u001b[39m {}\n\u001b[0;32m     13\u001b[0m \u001b[39mfor\u001b[39;00m emotion \u001b[39min\u001b[39;00m emotions:\n\u001b[1;32m---> 14\u001b[0m     percentages[emotion] \u001b[39m=\u001b[39m emotions[emotion] \u001b[39m/\u001b[39;49m total_words \u001b[39m*\u001b[39m \u001b[39m100\u001b[39m\n\u001b[0;32m     16\u001b[0m labels \u001b[39m=\u001b[39m [\u001b[39m\"\u001b[39m\u001b[39mAnger\u001b[39m\u001b[39m\"\u001b[39m, \u001b[39m\"\u001b[39m\u001b[39mFear\u001b[39m\u001b[39m\"\u001b[39m, \u001b[39m\"\u001b[39m\u001b[39mJoy\u001b[39m\u001b[39m\"\u001b[39m, \u001b[39m\"\u001b[39m\u001b[39mSadness\u001b[39m\u001b[39m\"\u001b[39m]\n\u001b[0;32m     17\u001b[0m values \u001b[39m=\u001b[39m [percentages[\u001b[39m\"\u001b[39m\u001b[39manger\u001b[39m\u001b[39m\"\u001b[39m], percentages[\u001b[39m\"\u001b[39m\u001b[39mfear\u001b[39m\u001b[39m\"\u001b[39m], percentages[\u001b[39m\"\u001b[39m\u001b[39mjoy\u001b[39m\u001b[39m\"\u001b[39m], percentages[\u001b[39m\"\u001b[39m\u001b[39msadness\u001b[39m\u001b[39m\"\u001b[39m]]\n",
      "\u001b[1;31mZeroDivisionError\u001b[0m: division by zero"
     ]
    }
   ],
   "source": []
  },
  {
   "cell_type": "code",
   "execution_count": 10,
   "metadata": {},
   "outputs": [
    {
     "name": "stdout",
     "output_type": "stream",
     "text": [
      "Defaulting to user installation because normal site-packages is not writeable\n",
      "Collecting matplotlib\n",
      "  Downloading matplotlib-3.7.1-cp311-cp311-win_amd64.whl (7.6 MB)\n",
      "     ---------------------------------------- 7.6/7.6 MB 508.9 kB/s eta 0:00:00\n",
      "Collecting contourpy>=1.0.1\n",
      "  Downloading contourpy-1.0.7-cp311-cp311-win_amd64.whl (162 kB)\n",
      "     ------------------------------------ 163.0/163.0 kB 264.2 kB/s eta 0:00:00\n",
      "Collecting cycler>=0.10\n",
      "  Downloading cycler-0.11.0-py3-none-any.whl (6.4 kB)\n",
      "Collecting fonttools>=4.22.0\n",
      "  Downloading fonttools-4.39.3-py3-none-any.whl (1.0 MB)\n",
      "     ---------------------------------------- 1.0/1.0 MB 488.0 kB/s eta 0:00:00\n",
      "Collecting kiwisolver>=1.0.1\n",
      "  Downloading kiwisolver-1.4.4-cp311-cp311-win_amd64.whl (55 kB)\n",
      "     ---------------------------------------- 55.4/55.4 kB 1.5 MB/s eta 0:00:00\n",
      "Collecting numpy>=1.20\n",
      "  Downloading numpy-1.24.2-cp311-cp311-win_amd64.whl (14.8 MB)\n",
      "     -------------------------------------- 14.8/14.8 MB 291.4 kB/s eta 0:00:00\n",
      "Requirement already satisfied: packaging>=20.0 in c:\\users\\krish\\appdata\\roaming\\python\\python311\\site-packages (from matplotlib) (23.0)\n",
      "Collecting pillow>=6.2.0\n",
      "  Downloading Pillow-9.5.0-cp311-cp311-win_amd64.whl (2.5 MB)\n",
      "     ---------------------------------------- 2.5/2.5 MB 305.5 kB/s eta 0:00:00\n",
      "Collecting pyparsing>=2.3.1\n",
      "  Using cached pyparsing-3.0.9-py3-none-any.whl (98 kB)\n",
      "Requirement already satisfied: python-dateutil>=2.7 in c:\\users\\krish\\appdata\\roaming\\python\\python311\\site-packages (from matplotlib) (2.8.2)\n",
      "Requirement already satisfied: six>=1.5 in c:\\users\\krish\\appdata\\roaming\\python\\python311\\site-packages (from python-dateutil>=2.7->matplotlib) (1.16.0)\n",
      "Installing collected packages: pyparsing, pillow, numpy, kiwisolver, fonttools, cycler, contourpy, matplotlib\n",
      "Successfully installed contourpy-1.0.7 cycler-0.11.0 fonttools-4.39.3 kiwisolver-1.4.4 matplotlib-3.7.1 numpy-1.24.2 pillow-9.5.0 pyparsing-3.0.9\n",
      "Note: you may need to restart the kernel to use updated packages.\n"
     ]
    },
    {
     "name": "stderr",
     "output_type": "stream",
     "text": [
      "\n",
      "[notice] A new release of pip available: 22.3.1 -> 23.0.1\n",
      "[notice] To update, run: python.exe -m pip install --upgrade pip\n"
     ]
    }
   ],
   "source": [
    "pip install matplotlib"
   ]
  },
  {
   "cell_type": "code",
   "execution_count": 11,
   "metadata": {},
   "outputs": [
    {
     "data": {
      "image/png": "[encoded data removed]",
      "text/plain": [
       "<Figure size 640x480 with 1 Axes>"
      ]
     },
     "metadata": {},
     "output_type": "display_data"
    }
   ],
   "source": [
    "\n",
    "labels = [\"Anger\", \"Fear\", \"Joy\", \"Sadness\"]\n",
    "values = [emotions[\"anger\"], emotions[\"fear\"], emotions[\"joy\"], emotions[\"sadness\"]]\n",
    "\n",
    "plt.bar(labels, values)\n",
    "plt.title(\"Emotions in Tweets\")\n",
    "plt.xlabel(\"Emotion\")\n",
    "plt.ylabel(\"Count\")\n",
    "plt.show()\n"
   ]
  }
 ],
 "metadata": {
  "kernelspec": {
   "display_name": "Python 3",
   "language": "python",
   "name": "python3"
  },
  "language_info": {
   "codemirror_mode": {
    "name": "ipython",
    "version": 3
   },
   "file_extension": ".py",
   "mimetype": "text/x-python",
   "name": "python",
   "nbconvert_exporter": "python",
   "pygments_lexer": "ipython3",
   "version": "3.11.2"
  },
  "orig_nbformat": 4
 },
 "nbformat": 4,
 "nbformat_minor": 2
}
