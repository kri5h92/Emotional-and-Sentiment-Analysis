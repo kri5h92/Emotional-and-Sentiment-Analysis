{
 "cells": [
  {
   "cell_type": "code",
   "execution_count": 5,
   "metadata": {},
   "outputs": [
    {
     "name": "stdout",
     "output_type": "stream",
     "text": [
      "-------------------------\n",
      "Successful Authentication\n",
      "-------------------------\n"
     ]
    }
   ],
   "source": [
    "from dotenv import load_dotenv, dotenv_values\n",
    "config = dotenv_values('.env')\n",
    "config = dict(config)\n",
    "\n",
    "import tweepy\n",
    "import nltk\n",
    "\n",
    "api_key = config['APIKEY']\n",
    "api_secrets = config['APIKEYSECRET']\n",
    "bearer_token = config['BEARERTOKEN']\n",
    "access_token = config['ACCESSTOKEN']\n",
    "access_token_secret = config['ACCESSTOKENSECRET']\n",
    "\n",
    "auth = tweepy.OAuthHandler(api_key,api_secrets)\n",
    "auth.set_access_token(access_token,access_token_secret)\n",
    "api = tweepy.API(auth)\n",
    "try:\n",
    "    api.verify_credentials()\n",
    "    print('-------------------------\\nSuccessful Authentication\\n-------------------------')\n",
    "except:\n",
    "    print('-------------------------\\nFailed authentication\\n-------------------------')"
   ]
  },
  {
   "attachments": {},
   "cell_type": "markdown",
   "metadata": {},
   "source": [
    "We download the NTLK libraries and import the emotion lexicon"
   ]
  },
  {
   "cell_type": "code",
   "execution_count": 6,
   "metadata": {},
   "outputs": [
    {
     "name": "stderr",
     "output_type": "stream",
     "text": [
      "[nltk_data] Downloading package wordnet to\n",
      "[nltk_data]     C:\\Users\\krish\\AppData\\Roaming\\nltk_data...\n",
      "[nltk_data]   Package wordnet is already up-to-date!\n",
      "[nltk_data] Downloading package sentiwordnet to\n",
      "[nltk_data]     C:\\Users\\krish\\AppData\\Roaming\\nltk_data...\n",
      "[nltk_data]   Package sentiwordnet is already up-to-date!\n",
      "[nltk_data] Downloading package punkt to\n",
      "[nltk_data]     C:\\Users\\krish\\AppData\\Roaming\\nltk_data...\n",
      "[nltk_data]   Package punkt is already up-to-date!\n"
     ]
    }
   ],
   "source": [
    "nltk.download('wordnet')\n",
    "nltk.download('sentiwordnet')\n",
    "nltk.download('punkt')\n",
    "\n",
    "from nltk.corpus import wordnet as wn\n",
    "from nltk.corpus import sentiwordnet as swn\n",
    "from nltk.tokenize import word_tokenize\n"
   ]
  },
  {
   "cell_type": "code",
   "execution_count": 11,
   "metadata": {},
   "outputs": [],
   "source": [
    "def get_emotions(tweet):\n",
    "    emotions = {\"anger\": 0, \"fear\": 0, \"joy\": 0, \"sadness\": 0}\n",
    "    tokens = word_tokenize(tweet)\n",
    "    for token in tokens:\n",
    "        synsets = wn.synsets(token)\n",
    "        if synsets:\n",
    "            synset = synsets[0]\n",
    "            senti_synset = swn.senti_synset(synset.name())\n",
    "            emotions[\"anger\"] += senti_synset.obj_score() + senti_synset.neg_score()\n",
    "            emotions[\"fear\"] += senti_synset.neg_score()\n",
    "            emotions[\"joy\"] += senti_synset.pos_score()\n",
    "            emotions[\"sadness\"] += abs(senti_synset.neg_score() - senti_synset.obj_score())\n",
    "    return emotions\n"
   ]
  },
  {
   "cell_type": "code",
   "execution_count": 8,
   "metadata": {},
   "outputs": [
    {
     "name": "stderr",
     "output_type": "stream",
     "text": [
      "[nltk_data] Downloading package punkt to\n",
      "[nltk_data]     C:\\Users\\krish\\AppData\\Roaming\\nltk_data...\n",
      "[nltk_data]   Package punkt is already up-to-date!\n"
     ]
    }
   ],
   "source": [
    "import matplotlib.pyplot as plt\n",
    "import pandas as pd\n",
    "from nltk import word_tokenize\n",
    "from nltk.stem.snowball import SnowballStemmer\n",
    "import requests\n",
    "from LeXmo import LeXmo     "
   ]
  },
  {
   "cell_type": "code",
   "execution_count": 12,
   "metadata": {},
   "outputs": [
    {
     "name": "stdout",
     "output_type": "stream",
     "text": [
      "The Percentage of Emotions in Tweets are: \n",
      "{'anger': 49, 'fear': 1, 'joy': 1, 'sadness': 47}\n"
     ]
    },
    {
     "data": {
      "image/png": "[encoded data removed]",
      "text/plain": [
       "<Figure size 640x480 with 1 Axes>"
      ]
     },
     "metadata": {},
     "output_type": "display_data"
    }
   ],
   "source": [
    "query = \"(Graham Potter)lang:en\"\n",
    "tweets = tweepy.Cursor(api.search_tweets,\n",
    "                           q=query,\n",
    "                           lang=\"en\",\n",
    "                           tweet_mode=\"extended\").items(100)\n",
    "\n",
    "\n",
    "emotions = {\"anger\": 0, \"fear\": 0, \"joy\": 0, \"sadness\": 0}\n",
    "emot = {'anger': 0, 'anticipation': 0, 'disgust': 0, 'fear': 0, 'joy': 0, 'negative': 0, 'positive': 0, 'sadness': 0, 'surprise': 0, 'trust': 0}\n",
    "\n",
    "total_words = 0\n",
    "word = []\n",
    "for tweet in tweets:\n",
    "    text = tweet.full_text\n",
    "    tweet_words = word_tokenize(text)\n",
    "    word+=tweet_words\n",
    "    total_words += len(tweet_words)\n",
    "    tweet_emotions = get_emotions(text)\n",
    "    # emo=LeXmo.LeXmo(text)\n",
    "    # emo.pop('text', None)\n",
    "    # emot.update(emo)\n",
    "    # for emotion in emot:\n",
    "    #     emot[emotion] += emo[emotion]\n",
    "    for emotion in emotions:\n",
    "        emotions[emotion] += tweet_emotions[emotion]\n",
    "\n",
    "percentages = {}\n",
    "\n",
    "for emotion in emotions:\n",
    "    percentages[emotion] = round(emotions[emotion] / total_words * 100)\n",
    "\n",
    "labels = [\"Anger\", \"Fear\", \"Joy\", \"Sadness\"]\n",
    "values = [percentages[\"anger\"], percentages[\"fear\"], percentages[\"joy\"], percentages[\"sadness\"]]\n",
    "\n",
    "print(\"The Percentage of Emotions in Tweets are: \")\n",
    "print(percentages)\n",
    "\n",
    "plt.bar(labels, values)\n",
    "plt.title(\"Emotions in Tweets\")\n",
    "plt.xlabel(\"Emotion\")\n",
    "plt.ylabel(\"Percentage\")\n",
    "plt.show()\n"
   ]
  },
  {
   "cell_type": "code",
   "execution_count": null,
   "metadata": {},
   "outputs": [],
   "source": []
  },
  {
   "cell_type": "code",
   "execution_count": null,
   "metadata": {},
   "outputs": [],
   "source": [
    "# perc = {}\n",
    "\n",
    "# for emotion in emot:\n",
    "#     perc[emotion] = ((emot[emotion] / total_words)*100)\n",
    "\n",
    "# print(\"The Percentage of Emotions in Tweets are: \")\n",
    "# print(perc)\n",
    "\n",
    "# labels = [\"Anger\", \"Anticipation\", \"Disgust\", \"Fear\", \"Joy\", \"Negative\", \"Positive\", \"Sadness\", \"Surprise\", \"Trust\"]\n",
    "# values = [perc[\"anger\"], perc[\"anticipation\"], perc[\"disgust\"], perc[\"fear\"], perc[\"joy\"], perc[\"negative\"], perc[\"positive\"], perc[\"sadness\"], perc[\"surprise\"], perc[\"trust\"]]\n",
    "# plt.bar(labels, values)\n",
    "# plt.title(\"Emotions in Tweets\")\n",
    "\n",
    "# plt.xlabel(\"Emotion\")\n",
    "# plt.ylabel(\"Percentage\")\n",
    "# plt.show()\n",
    "\n"
   ]
  },
  {
   "cell_type": "code",
   "execution_count": null,
   "metadata": {},
   "outputs": [],
   "source": [
    "\n",
    "labels = [\"Anger\", \"Fear\", \"Joy\", \"Sadness\"]\n",
    "values = [emotions[\"anger\"], emotions[\"fear\"], emotions[\"joy\"], emotions[\"sadness\"]]\n",
    "\n",
    "plt.bar(labels, values)\n",
    "plt.title(\"Emotions in Tweets\")\n",
    "plt.xlabel(\"Emotion\")\n",
    "plt.ylabel(\"Count\")\n",
    "plt.show()\n"
   ]
  },
  {
   "cell_type": "code",
   "execution_count": null,
   "metadata": {},
   "outputs": [],
   "source": []
  }
 ],
 "metadata": {
  "kernelspec": {
   "display_name": "Python 3",
   "language": "python",
   "name": "python3"
  },
  "language_info": {
   "codemirror_mode": {
    "name": "ipython",
    "version": 3
   },
   "file_extension": ".py",
   "mimetype": "text/x-python",
   "name": "python",
   "nbconvert_exporter": "python",
   "pygments_lexer": "ipython3",
   "version": "3.11.2"
  },
  "orig_nbformat": 4
 },
 "nbformat": 4,
 "nbformat_minor": 2
}
